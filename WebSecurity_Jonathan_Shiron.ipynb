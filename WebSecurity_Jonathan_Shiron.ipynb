{
 "cells": [
  {
   "attachments": {},
   "cell_type": "markdown",
   "metadata": {
    "collapsed": false
   },
   "source": [
    "# Web security module\n",
    "\n",
    "Project : complete CTF\n",
    "\n",
    "\n"
   ]
  },
  {
   "attachments": {},
   "cell_type": "markdown",
   "metadata": {
    "collapsed": false
   },
   "source": [
    "# Obfuscation\n",
    "## Obf100\n",
    "\n",
    "-> Arrivée sur le site\n",
    "\n",
    "-> Prompt de texte, et page vide.\n",
    "\n",
    "Premier réflexe, utilisation des devs tools (clique-droit Inspect) puis onglet des sources js de la page\n",
    "On tombe sur ce bout de code qui a l'air critique\n",
    "\n",
    "![Alt text](screenshots/obfsc/criticalcode.PNG)\n",
    "\n",
    "On comprend qu'il y a un tableau de chaînes de caractères unicode, et la ligne password indique le mot de passe\n",
    "auquel sera comparé l'input de l'utilisateur\n",
    "\n",
    "On utilise un outil pour décoder la chaîne unicode\n",
    "\n",
    "![Alt text](screenshots/obfsc/unicodedecodee.PNG)\n",
    "\n",
    "Après avoir rentré ce flag dans le prompt input (après avoir F5), on obtient le flag final\n",
    "\n",
    "![Alt text](screenshots/obfsc/result.PNG)\n",
    "\n"
   ]
  },
  {
   "attachments": {},
   "cell_type": "markdown",
   "metadata": {},
   "source": [
    "# JS\n",
    "## B64JS\n",
    "\n",
    "-> Arrivée sur le site\n",
    "\n",
    "-> Prompt de texte et page vide\n",
    "\n",
    "Premier réflexe, utilisation des devs tools (clique-droit Inspect) puis onglet des sources js de la page\n",
    "On tombe sur ce bout de code qui a l'air critique\n",
    "\n",
    "![Alt text](screenshots/b64-1/code.PNG)\n",
    "\n",
    "On voit que la fonction btoa() est appelée sur l'input (qui est clean avant) de l'utilisateur.\n",
    "\n",
    "D'après la doc, cette fonction transforme une chaîne de caractères de base64 vers une chaîne littérale.\n",
    "\n",
    "-> Utilisation d'outil pour décoder une chaîne en b64 (c'est une fonction symétrique et réversible, pas un hash)\n",
    "\n",
    "![Alt text](screenshots/b64-1/decode.PNG)\n",
    "\n",
    "Cet input nous donne le flag\n",
    "\n",
    "![Alt text](screenshots/b64-1/input.PNG)"
   ]
  },
  {
   "attachments": {},
   "cell_type": "markdown",
   "metadata": {},
   "source": [
    "## JS200\n",
    "\n",
    "-> Arrivée sur le site\n",
    "\n",
    "-> Champ d'input qui peut être submit et affiche un prompt avec \"Try again!\"\n",
    "\n",
    "Premier réflexe, utilisation des devs tools (clique-droit Inspect) puis onglet des sources js de la page\n",
    "On tombe sur ce bout de code qui a l'air critique\n",
    "\n",
    "![Alt text](screenshots/js500/code.PNG)\n",
    "\n",
    "On observe que le code va éxécuter un algorithme sur l'input utilisateur, puis le comparer à la string flag\n",
    "\n",
    "Plutôt que d'essayer de reverse-engineer l'algo tout de suite, on s'essaie plutôt à voir s'il est symétrique\n",
    "\n",
    "On exécute donc cet algo dans un éditeur js en ligne, avec comme input la chaîne flag\n",
    "\n",
    "![Alt text](screenshots/js500/executejs.PNG)\n",
    "\n",
    "La réponse n'est pas aléatoire (elle a du sens), on essaie donc cette phrase comme input et on obtient le flag\n",
    "\n",
    "![Alt text](screenshots/js500/result.PNG)"
   ]
  },
  {
   "attachments": {},
   "cell_type": "markdown",
   "metadata": {},
   "source": [
    "# AUTH\n",
    "## AUTH50\n",
    "\n",
    "-> Arrivée sur le site\n",
    "\n",
    "-> Champ d'input pour username et password, qui affiche un text une fois submit\n",
    "\n",
    "![Alt text](screenshots/auth50/fail.PNG)\n",
    "\n",
    "Le nom du site est \"FUCK GUESSING CHALLENGES\", premier instinct c'est qu'il doit être bruteforcable.\n",
    "\n",
    "On pense à plusieurs mots-clés: **admin** **root** **username** **password**\n",
    "\n",
    "Cela fait n² donc 16 possibilités, on les essaie toutes avant de tomber sur le flag\n",
    "\n",
    "![Alt text](screenshots/auth50/success1.PNG)\n",
    "![Alt text](screenshots/auth50/success2.PNG)"
   ]
  },
  {
   "attachments": {},
   "cell_type": "markdown",
   "metadata": {},
   "source": [
    "# SSTI\n",
    "## SSTI1\n",
    "\n",
    "-> Arrivée sur le site\n",
    "\n",
    "-> Champ d'input qui peut être submit et affiche Hello 'value', value étant l'input utilisateur\n",
    "\n",
    "![Alt text](screenshots/ssti1/input0.PNG)\n",
    "\n",
    "\n",
    "Après 3-4 inputs différents, on sait pas trop ce à quoi le site s'attend.\n",
    "\n",
    "On essaie d'avoir des informations sur google grâce au nom de l'exercice : \"ssti web attack\".\n",
    "\n",
    "On tombe sur un site qui propose des inputs à essayer selon la technologie utilisée par le site.\n",
    "\n",
    "![Alt text](screenshots/ssti1/website1.PNG)![Alt text](screenshots/ssti1/website2.PNG)\n",
    "\n",
    "Sur le site il y a écrit \"Flaaaaasque\" dont on se laisse suppose que la technologie est Python.\n",
    "\n",
    "On essaie les calculs, ça fonctionne.\n",
    "\n",
    "![Alt text](screenshots/ssti1/input1.PNG)\n",
    "\n",
    "Le site propose ensuite ces autres inputs pour Python, on les essaie tous un par un en lisant les réponses avant de finir par tomber sur le flag.\n",
    "\n",
    "![Alt text](screenshots/ssti1/website3.PNG)\n",
    "\n",
    "![Alt text](screenshots/ssti1/input2.PNG)\n",
    "![Alt text](screenshots/ssti1/input3.PNG)"
   ]
  },
  {
   "attachments": {},
   "cell_type": "markdown",
   "metadata": {},
   "source": [
    "# LFI\n",
    "## FILTERS"
   ]
  },
  {
   "attachments": {},
   "cell_type": "markdown",
   "metadata": {},
   "source": [
    "## NOPROTECTION\n",
    "\n",
    "-> Arrivée sur le site\n",
    "\n",
    "-> Deux boutons pour changer de langue, et du texte.\n",
    "\n",
    "Premier instinct, regarder les sources dans les dev tools, rien de bien intéressant.\n",
    "\n",
    "En changeant la langue, on voit que le fichier de langue à utiliser est filé en GET dans l'URL\n",
    "\n",
    "![Alt text](screenshots/nosecu/lfivuln.PNG)\n",
    "\n",
    "Ceci peut donc être une vulnérabilité LFI, on essaie différents fichiers avant de tomber sur le bon (grâce à l'indice OBVIOUS HTML PLACE)\n",
    "\n",
    "![Alt text](screenshots/nosecu/flag.PNG)"
   ]
  }
 ],
 "metadata": {
  "kernelspec": {
   "display_name": "Python 3",
   "language": "python",
   "name": "python3"
  },
  "language_info": {
   "codemirror_mode": {
    "name": "ipython",
    "version": 2
   },
   "file_extension": ".py",
   "mimetype": "text/x-python",
   "name": "python",
   "nbconvert_exporter": "python",
   "pygments_lexer": "ipython2",
   "version": "3.9.1"
  },
  "vscode": {
   "interpreter": {
    "hash": "2ec9d06aab690bb11b12f81ce615ad953298e8d18c7d4c3f3e5754d55918a431"
   }
  }
 },
 "nbformat": 4,
 "nbformat_minor": 0
}
