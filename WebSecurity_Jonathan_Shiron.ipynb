{
 "cells": [
  {
   "attachments": {},
   "cell_type": "markdown",
   "metadata": {
    "collapsed": false
   },
   "source": [
    "# Web security module\n",
    "\n",
    "Project : complete CTF\n",
    "\n",
    "\n"
   ]
  },
  {
   "attachments": {},
   "cell_type": "markdown",
   "metadata": {
    "collapsed": false
   },
   "source": [
    "## Obf100\n",
    "\n",
    "-> Arrivée sur le site\n",
    "-> Prompt de texte, et page vide.\n",
    "\n",
    "Premier réflexe, utilisation des devs tools (clique-droit Inspect) puis onglet des sources js de la page\n",
    "On tombe sur ce bout de code qui a l'air critique\n",
    "\n",
    "![Alt text](screenshots/obfsc/criticalcode.PNG)\n",
    "\n",
    "On comprend qu'il y a un tableau de chaînes de caractères unicode, et la ligne password indique le mot de passe\n",
    "auquel sera comparé l'input de l'utilisateur\n",
    "\n",
    "On utilise un outil pour décoder la chaîne unicode\n",
    "\n",
    "![Alt text](screenshots/obfsc/unicodedecodee.PNG)\n",
    "\n",
    "Après avoir rentré ce flag dans le prompt input (après avoir F5), on obtient le flag final\n",
    "\n",
    "![Alt text](screenshots/obfsc/result.PNG)\n",
    "\n"
   ]
  }
 ],
 "metadata": {
  "kernelspec": {
   "display_name": "Python 3",
   "language": "python",
   "name": "python3"
  },
  "language_info": {
   "codemirror_mode": {
    "name": "ipython",
    "version": 2
   },
   "file_extension": ".py",
   "mimetype": "text/x-python",
   "name": "python",
   "nbconvert_exporter": "python",
   "pygments_lexer": "ipython2",
   "version": "3.9.1"
  },
  "vscode": {
   "interpreter": {
    "hash": "2ec9d06aab690bb11b12f81ce615ad953298e8d18c7d4c3f3e5754d55918a431"
   }
  }
 },
 "nbformat": 4,
 "nbformat_minor": 0
}
