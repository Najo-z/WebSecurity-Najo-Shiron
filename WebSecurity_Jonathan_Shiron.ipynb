{
 "cells": [
  {
   "cell_type": "markdown",
   "source": [
    "### Web security module\n",
    "\n",
    "Project : complete CTF\n",
    "\n",
    "\n"
   ],
   "metadata": {
    "collapsed": false
   }
  },
  {
   "cell_type": "markdown",
   "source": [
    "## Obf100\n",
    "\n",
    "-> Arrivée sur le site\n",
    "-> Prompt de texte, et page vide.\n",
    "\n",
    "Premier réflexe, utilisation des devs tools (clique-droit Inspect) puis les sources js de la page\n",
    "\n",
    "![screenshots/obfsc/criticalcode.PNG](screenshots/obfsc/criticalcode.PNG]\n"
   ],
   "metadata": {
    "collapsed": false
   }
  }
 ],
 "metadata": {
  "kernelspec": {
   "display_name": "Python 3",
   "language": "python",
   "name": "python3"
  },
  "language_info": {
   "codemirror_mode": {
    "name": "ipython",
    "version": 2
   },
   "file_extension": ".py",
   "mimetype": "text/x-python",
   "name": "python",
   "nbconvert_exporter": "python",
   "pygments_lexer": "ipython2",
   "version": "2.7.6"
  }
 },
 "nbformat": 4,
 "nbformat_minor": 0
}
